{
  "nbformat": 4,
  "nbformat_minor": 0,
  "metadata": {
    "colab": {
      "provenance": []
    },
    "kernelspec": {
      "name": "python3",
      "display_name": "Python 3"
    },
    "language_info": {
      "name": "python"
    }
  },
  "cells": [
    {
      "cell_type": "markdown",
      "source": [
        "1. What is Simple Linear Regression?\n",
        "\n",
        "Ans- Simple Linear Regression is a way to predict one value using another.\n",
        "\n",
        "It finds a straight line (like y = mx + c) that best fits the data points.\n",
        "\n",
        "x = input (independent variable)\n",
        "\n",
        "y = output (dependent variable)\n",
        "\n",
        "The line shows how y changes when x changes."
      ],
      "metadata": {
        "id": "M-cECkt7o7bk"
      }
    },
    {
      "cell_type": "markdown",
      "source": [
        "2. What are the key assumptions of Simple Linear Regression?\n",
        "\n",
        "Ans- The key assumptions of Simple Linear Regression in easy words:\n",
        "\n",
        "* Linearity:\n",
        "The relationship between x and y should be a straight line.\n",
        "\n",
        "* Independence:\n",
        "Data points should be independent of each other.\n",
        "\n",
        "* Homoscedasticity:\n",
        "The spread of errors (residuals) should be the same across all values of x.\n",
        "\n",
        "* Normality of errors:\n",
        "The errors (difference between actual and predicted y) should follow a normal distribution.\n",
        "\n",
        "* No multicollinearity (only for multiple regression):\n",
        "In simple regression, this doesn't apply as there's only one independent variable."
      ],
      "metadata": {
        "id": "ePGP_DX1puFe"
      }
    },
    {
      "cell_type": "markdown",
      "source": [
        "3. What does the coefficient m represent in the equation Y=mX+c.\n",
        "\n",
        "Ans- In the equation Y = mX + c:\n",
        "\n",
        "The coefficient m represents the slope of the line.\n",
        "\n",
        "In simple words: It shows how much Y changes when X increases by 1 unit.\n",
        "\n",
        "Example:\n",
        "If m = 2, then every time X goes up by 1, Y goes up by 2."
      ],
      "metadata": {
        "id": "3iQg9TmkqFjH"
      }
    },
    {
      "cell_type": "markdown",
      "source": [
        "4. What does the intercept c represent in the equation Y=mX+c?\n",
        "\n",
        "Ans- In the equation Y = mX + c:\n",
        "\n",
        "The intercept c is the value of Y when X = 0.\n",
        "\n",
        "In simple words:\n",
        "It shows where the line crosses the Y-axis.\n",
        "\n",
        "Example:\n",
        "If c = 5, then when X = 0, Y = 5."
      ],
      "metadata": {
        "id": "s0FvPpf1qPSq"
      }
    },
    {
      "cell_type": "markdown",
      "source": [
        "5. How do we calculate the slope m in Simple Linear Regression?\n",
        "\n",
        "Ans- The slope (m) in Simple Linear Regression is calculated using this formula:\n",
        "\n",
        "m = Σ((x - mean_x) * (y - mean_y)) / Σ((x - mean_x)²)\n",
        "\n",
        "It measures how much Y changes for a change in X, based on the average of all data points."
      ],
      "metadata": {
        "id": "AG7Se5SoqkCI"
      }
    },
    {
      "cell_type": "markdown",
      "source": [
        "6. What is the purpose of the least squares method in Simple Linear Regression?\n",
        "\n",
        "Ans- The least squares method in Simple Linear Regression is used to:\n",
        "\n",
        "* Find the best-fitting line through the data points.\n",
        "* It does this by minimizing the sum of the squared differences between actual values (y) and predicted values (ŷ)."
      ],
      "metadata": {
        "id": "XVDQG14Xq1a9"
      }
    },
    {
      "cell_type": "markdown",
      "source": [
        "7. How is the coefficient of determination (R²) interpreted in Simple Linear Regression?\n",
        "\n",
        "Ans- In Simple Linear Regression, the R² (coefficient of determination) tells how well the line fits the data.\n",
        "\n",
        "Interpretation:\n",
        "\n",
        "R² = 1 → Perfect fit\n",
        "\n",
        "R² = 0 → No fit\n",
        "\n",
        "R² = 0.8 → 80% of the variation in Y is explained by X"
      ],
      "metadata": {
        "id": "Dexi_2-cq64C"
      }
    },
    {
      "cell_type": "markdown",
      "source": [
        "8. What is Multiple Linear Regression?\n",
        "\n",
        "Ans- Multiple Linear Regression is used to predict a value using two or more input variables.\n",
        "\n",
        "Formula:\n",
        "Y = b0 + b1*X1 + b2*X2 + ... + bn*Xn\n",
        "\n",
        "Y = target (dependent variable)\n",
        "\n",
        "X1, X2, ..., Xn = input (independent variables)\n",
        "\n",
        "b0 = intercept\n",
        "\n",
        "b1, b2, ..., bn = coefficients (slopes)"
      ],
      "metadata": {
        "id": "z_2OSo4qq-GM"
      }
    },
    {
      "cell_type": "markdown",
      "source": [
        "9. What is the main difference between Simple and Multiple Linear Regression?\n",
        "\n",
        "Ans- Main difference:\n",
        "\n",
        "* Simple Linear Regression uses 1 independent variable.\n",
        "* Multiple Linear Regression uses 2 or more independent variables.\n",
        "\n",
        "Example:\n",
        "\n",
        "* Simple: Predict salary using experience\n",
        "* Multiple: Predict salary using experience, education, and age"
      ],
      "metadata": {
        "id": "Rkaw6fsQrEjM"
      }
    },
    {
      "cell_type": "markdown",
      "source": [
        "10. What are the key assumptions of Multiple Linear Regression?\n",
        "\n",
        "Ans- The key assumptions of Multiple Linear Regression in simple words:\n",
        "\n",
        "* Linearity:\n",
        "Relationship between Y and each X is linear.\n",
        "\n",
        "* Independence:\n",
        "Data points (observations) are independent.\n",
        "\n",
        "* Homoscedasticity:\n",
        "Errors have constant spread across all levels of X.\n",
        "\n",
        "* Normality of errors:\n",
        "Errors (residuals) follow a normal distribution.\n",
        "\n",
        "* No multicollinearity:\n",
        "Independent variables should not be highly correlated with each other."
      ],
      "metadata": {
        "id": "08G5SZE_rH6U"
      }
    },
    {
      "cell_type": "markdown",
      "source": [
        "11. What is heteroscedasticity, and how does it affect the results of a Multiple Linear Regression model?\n",
        "\n",
        "Ans- Heteroscedasticity means the spread of errors (residuals) is not constant across all levels of the independent variables.\n",
        "\n",
        "In simple words:\n",
        "The error gets bigger or smaller as the value of X changes.\n",
        "\n",
        "Effect on Multiple Linear Regression:\n",
        "* It violates model assumptions.\n",
        "* It makes standard errors unreliable.\n",
        "* So, confidence intervals and p-values may be wrong.\n",
        "* Can lead to incorrect conclusions."
      ],
      "metadata": {
        "id": "K1E_84uyrLCS"
      }
    },
    {
      "cell_type": "markdown",
      "source": [
        "12. How can you improve a Multiple Linear Regression model with high multicollinearity?\n",
        "\n",
        "Ans- To improve a Multiple Linear Regression model with high multicollinearity, you can:\n",
        "\n",
        "Remove one of the correlated variables\n",
        "* Drop the variable that adds less value.\n",
        "\n",
        "Combine variables\n",
        "* Use their average or create a new feature.\n",
        "\n",
        "Use Principal Component Analysis (PCA)\n",
        "* Converts correlated variables into uncorrelated ones.\n",
        "\n",
        "Regularization methods\n",
        "* Use Ridge or Lasso Regression to reduce impact of multicollinearity.\n",
        "\n",
        "Check Variance Inflation Factor (VIF)\n",
        "* Drop variables with VIF > 10 (a sign of high multicollinearity)."
      ],
      "metadata": {
        "id": "q1Fjl57krPhh"
      }
    },
    {
      "cell_type": "markdown",
      "source": [
        "13. What are some common techniques for transforming categorical variables for use in regression models?\n",
        "\n",
        "Ans- The common techniques to transform categorical variables for regression models:\n",
        "\n",
        "One-Hot Encoding\n",
        "* Creates binary (0/1) columns for each category.\n",
        "* Best for nominal data (no order).\n",
        "\n",
        "Label Encoding\n",
        "* Assigns a unique number to each category.\n",
        "* Can mislead model if data is ordinal.\n",
        "\n",
        "Ordinal Encoding\n",
        "* Assigns numbers based on order of categories.\n",
        "* Best for ordered categories (e.g., low, medium, high).\n",
        "\n",
        "Binary Encoding / Target Encoding (less common)\n",
        "* Useful when there are many categories."
      ],
      "metadata": {
        "id": "-iYbXpbbrSqr"
      }
    },
    {
      "cell_type": "markdown",
      "source": [
        "14. What is the role of interaction terms in Multiple Linear Regression?\n",
        "\n",
        "Ans- Interaction terms in Multiple Linear Regression show how the effect of one variable on Y depends on another variable.\n",
        "\n",
        "Without interaction:\n",
        "Y = b0 + b1*X1 + b2*X2\n",
        "\n",
        "With interaction:\n",
        "Y = b0 + b1*X1 + b2*X2 + b3*(X1*X2)\n",
        "\n",
        "Role:\n",
        "* Improves accuracy when variables influence each other.\n",
        "* Helps model real-world relationships better."
      ],
      "metadata": {
        "id": "P3OZlBUOrWK6"
      }
    },
    {
      "cell_type": "markdown",
      "source": [
        "15. How can the interpretation of intercept differ between Simple and Multiple Linear Regression?\n",
        "\n",
        "Ans- In Simple Linear Regression:\n",
        "* The intercept (c) is the value of Y when X = 0.\n",
        "* It’s easy to interpret if X = 0 makes sense.\n",
        "\n",
        "In Multiple Linear Regression:\n",
        "* The intercept (b0) is the value of Y when all X variables = 0.\n",
        "* It can be hard to interpret, especially if zero is not realistic for all variables."
      ],
      "metadata": {
        "id": "-exovQGvrZUB"
      }
    },
    {
      "cell_type": "markdown",
      "source": [
        "16. What is the significance of the slope in regression analysis, and how does it affect predictions?\n",
        "\n",
        "Ans- The slope shows how much the target (Y) changes when an input (X) changes by 1 unit.\n",
        "\n",
        "It affects predictions:\n",
        "* A positive slope → Y increases as X increases.\n",
        "* A negative slope → Y decreases as X increases.\n",
        "* A larger slope → Stronger impact of X on Y."
      ],
      "metadata": {
        "id": "H2QculForcmc"
      }
    },
    {
      "cell_type": "markdown",
      "source": [
        "17. How does the intercept in a regression model provide context for the relationship between variables?\n",
        "\n",
        "Ans- It’s the value of Y when all X = 0.\n",
        "\n",
        "It provides the context:\n",
        "* Sets the baseline before any effect of X is added.\n",
        "* Helps interpret how X variables influence Y from that base.\n",
        "\n",
        "Example:\n",
        "\n",
        "If intercept = 50, and slope = 10, then at X = 0, Y = 50.\n",
        "\n",
        "As X increases, Y changes from that point."
      ],
      "metadata": {
        "id": "ms9egpj3rxJn"
      }
    },
    {
      "cell_type": "markdown",
      "source": [
        "18. What are the limitations of using R² as a sole measure of model performance?\n",
        "\n",
        "Ans- The key limitations of using R² alone to judge model performance:\n",
        "\n",
        "Doesn’t show if the model is correct\n",
        "* A high R² doesn’t mean the model fits well logically.\n",
        "\n",
        "Can’t detect overfitting\n",
        "* R² always increases with more variables, even if they’re useless.\n",
        "\n",
        "Ignores model assumptions\n",
        "* Doesn’t check for things like linearity or homoscedasticity.\n",
        "\n",
        "Not useful for comparing different types of models\n",
        "* Only works well for linear models.\n",
        "\n",
        "Doesn’t tell about prediction error\n",
        "* Says nothing about how far off predictions are."
      ],
      "metadata": {
        "id": "c6NDeYANrhQW"
      }
    },
    {
      "cell_type": "markdown",
      "source": [
        "19. How would you interpret a large standard error for a regression coefficient?\n",
        "\n",
        "Ans- Interpretation of a large standard error for a regression coefficient:\n",
        "* It means the estimate of the coefficient is not stable.\n",
        "* The model is less confident about the true value of that coefficient.\n",
        "\n",
        "It suggests:\n",
        "* The variable may have a weak or no real effect on the target.\n",
        "* There might be multicollinearity or noisy data."
      ],
      "metadata": {
        "id": "3C_IO32mrmnf"
      }
    },
    {
      "cell_type": "markdown",
      "source": [
        "20. How can heteroscedasticity be identified in residual plots, and why is it important to address it?\n",
        "\n",
        "Ans- To identify heteroscedasticity in residual plots:\n",
        "* Plot residuals vs predicted values.\n",
        "* If the spread of residuals increases or decreases (like a cone or fan shape), it's heteroscedasticity.\n",
        "* If residuals have constant spread, it's homoscedasticity (good!).\n",
        "\n",
        "It's important to fix:\n",
        "* It violates regression assumptions.\n",
        "* Leads to biased standard errors, making p-values and confidence intervals wrong.\n",
        "* Can cause misleading results and poor predictions."
      ],
      "metadata": {
        "id": "ddwxoX9nr14m"
      }
    },
    {
      "cell_type": "markdown",
      "source": [
        "21. What does it mean if a Multiple Linear Regression model has a high R² but low adjusted R²?\n",
        "\n",
        "Ans-If a Multiple Linear Regression model has:\n",
        "* High R²\n",
        "* Low Adjusted R²\n",
        "\n",
        "It means the model is likely overfitting.\n",
        "\n",
        "Why:\n",
        "* R² increases when more variables are added — even useless ones.\n",
        "* Adjusted R² only increases if new variables actually improve the model.\n",
        "\n",
        "What it tells about:\n",
        "* Some variables in the model may be irrelevant.\n",
        "* The model looks good on paper (R²) but isn’t truly strong."
      ],
      "metadata": {
        "id": "fuOJ3JFor4wk"
      }
    },
    {
      "cell_type": "markdown",
      "source": [
        "22. Why is it important to scale variables in Multiple Linear Regression?\n",
        "\n",
        "Ans- Scaling is important in Multiple Linear Regression:\n",
        "Improves model interpretation\n",
        "* Makes coefficients easier to compare when variables have different units.\n",
        "\n",
        "Helps regularization methods\n",
        "* Techniques like Ridge or Lasso work better when data is scaled.\n",
        "\n",
        "Avoids dominance by large-scale features\n",
        "* Variables with big values can unfairly influence the model.\n",
        "\n",
        "Improves numerical stability\n",
        "* Scaling reduces calculation errors in matrix operations."
      ],
      "metadata": {
        "id": "GB6qcbWnr72A"
      }
    },
    {
      "cell_type": "markdown",
      "source": [
        "23. What is polynomial regression?\n",
        "\n",
        "Ans- Polynomial Regression is a type of regression that models the relationship between X and Y as a curved line (not straight).\n",
        "\n",
        "Y = b0 + b1*X + b2*X² + b3*X³ + ... + bn*Xⁿ"
      ],
      "metadata": {
        "id": "X3Sa-MS4rqYF"
      }
    },
    {
      "cell_type": "markdown",
      "source": [
        "24. How does polynomial regression differ from linear regression?\n",
        "\n",
        "Ans- The 5 key differences between Linear and Polynomial Regression:\n",
        "\n",
        "Model Shape:\n",
        "* Linear = straight line,\n",
        "* Polynomial = curved line.\n",
        "\n",
        "Equation Form:\n",
        "* Linear: Y = b0 + b1*X\n",
        "* Polynomial: Y = b0 + b1*X + b2*X² + ... + bn*Xⁿ\n",
        "\n",
        "Relationship Type:\n",
        "* Linear handles simple, straight-line relationships.\n",
        "* Polynomial handles complex, non-linear patterns.\n",
        "\n",
        "Flexibility:\n",
        "* Polynomial is more flexible than linear regression.\n",
        "\n",
        "Risk of Overfitting:\n",
        "* Polynomial regression can overfit if the degree is too high."
      ],
      "metadata": {
        "id": "fI9pMsA-suNi"
      }
    },
    {
      "cell_type": "markdown",
      "source": [
        "25. When is polynomial regression used?\n",
        "\n",
        "Ans- Polynomial Regression is used when:\n",
        "\n",
        "* The data shows a curve, not a straight line.\n",
        "* Linear regression underfits the data.\n",
        "* You want to model non-linear relationships.\n",
        "* There's a need to capture bends or peaks in trends.\n",
        "* You need a better fit with few more features (like X², X³)."
      ],
      "metadata": {
        "id": "t68BLWqBrtsU"
      }
    },
    {
      "cell_type": "markdown",
      "source": [
        "26. What is the general equation for polynomial regression?\n",
        "\n",
        "Ans-The general equation for Polynomial Regression is:\n",
        "\n",
        "Y = b0 + b1*X + b2*X² + b3*X³ + ... + bn*Xⁿ\n",
        "\n",
        "Where:\n",
        "\n",
        "Y = predicted value\n",
        "\n",
        "X = input variable\n",
        "\n",
        "b0, b1, ..., bn = coefficients\n",
        "\n",
        "n = degree of the polynomial"
      ],
      "metadata": {
        "id": "sP09oL3nszbj"
      }
    },
    {
      "cell_type": "markdown",
      "source": [
        "27. Can polynomial regression be applied to multiple variables?\n",
        "\n",
        "Ans- Yes, polynomial regression can be applied to multiple variables.\n",
        "It’s called Multivariate Polynomial Regression.\n",
        "\n",
        "Y = b0 + b1*X1 + b2*X2 + b3*X1² + b4*X2² + b5*X1*X2 + ...\n",
        "\n",
        "It includes:\n",
        "\n",
        "Multiple features (X1, X2, etc.)\n",
        "\n",
        "Their powers (X1², X2², etc.)\n",
        "\n",
        "Interaction terms (X1*X2)"
      ],
      "metadata": {
        "id": "FL9kuTRds31F"
      }
    },
    {
      "cell_type": "markdown",
      "source": [
        "28. What are the limitations of polynomial regression?\n",
        "\n",
        "Ans- The 5 key limitations of Polynomial Regression:\n",
        "\n",
        "Overfitting:\n",
        "* High-degree polynomials can fit noise, not the real pattern.\n",
        "\n",
        "Poor extrapolation:\n",
        "* Predictions outside the data range can be wildly wrong.\n",
        "\n",
        "Complexity:\n",
        "* Higher-degree models are harder to interpret.\n",
        "\n",
        "Sensitive to outliers:\n",
        "* A few bad data points can distort the curve.\n",
        "\n",
        "Computational cost:\n",
        "* More features and degrees mean slower training."
      ],
      "metadata": {
        "id": "9yuHZ2EHs8mk"
      }
    },
    {
      "cell_type": "markdown",
      "source": [
        "29. What methods can be used to evaluate model fit when selecting the degree of a polynomial?\n",
        "\n",
        "Ans- The 5 methods to evaluate model fit and choose the best polynomial degree:\n",
        "\n",
        "R² and Adjusted R²\n",
        "* Higher is better, but watch for overfitting.\n",
        "\n",
        "Cross-Validation (like K-Fold)\n",
        "* Tests model on unseen data for real-world performance.\n",
        "\n",
        "Mean Squared Error (MSE) / Root MSE\n",
        "* Lower error = better fit.\n",
        "\n",
        "Residual Plots\n",
        "* Should look random; patterns mean poor fit.\n",
        "\n",
        "AIC / BIC (Information Criteria)\n",
        "* Balance model fit and complexity (lower is better)."
      ],
      "metadata": {
        "id": "wMbHY_1MtFZ9"
      }
    },
    {
      "cell_type": "markdown",
      "source": [
        "30. Why is visualization important in polynomial regression?\n",
        "\n",
        "Ans- Shows the curve\n",
        "* Helps you see the non-linear relationship between X and Y.\n",
        "\n",
        "Detects underfitting or overfitting\n",
        "* You can spot if the model is too simple or too complex.\n",
        "\n",
        "Improves understanding\n",
        "* Easier to explain and understand how well the model fits the data.\n",
        "\n",
        "Compares models\n",
        "* You can compare linear vs polynomial visually."
      ],
      "metadata": {
        "id": "hWLnl14HtJXw"
      }
    },
    {
      "cell_type": "code",
      "source": [
        "#31. How is polynomial regression implemented in Python?\n",
        "\n",
        "import numpy as np\n",
        "from sklearn.linear_model import LinearRegression\n",
        "from sklearn.preprocessing import PolynomialFeatures\n",
        "import matplotlib.pyplot as plt\n",
        "\n",
        "x = np.array([1, 2, 3, 4, 5]).reshape(-1, 1)\n",
        "y = np.array([1, 4, 9, 16, 25])  # y = x^2\n",
        "\n",
        "poly = PolynomialFeatures(degree=2)\n",
        "x_poly = poly.fit_transform(x)\n",
        "\n",
        "model = LinearRegression()\n",
        "model.fit(x_poly, y)\n",
        "\n",
        "y_pred = model.predict(x_poly)\n",
        "\n",
        "plt.scatter(x, y, color='blue')\n",
        "plt.plot(x, y_pred, color='red')\n",
        "plt.show()"
      ],
      "metadata": {
        "colab": {
          "base_uri": "https://localhost:8080/",
          "height": 430
        },
        "id": "SiAi5CBFtVVA",
        "outputId": "f3462161-ed89-46b6-d90e-6527baf6aec5"
      },
      "execution_count": null,
      "outputs": [
        {
          "output_type": "display_data",
          "data": {
            "text/plain": [
              "<Figure size 640x480 with 1 Axes>"
            ],
            "image/png": "[encoded data removed]"
          },
          "metadata": {}
        }
      ]
    }
  ]
}